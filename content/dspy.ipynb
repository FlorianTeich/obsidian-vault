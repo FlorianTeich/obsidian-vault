{
 "cells": [
  {
   "cell_type": "code",
   "execution_count": 1,
   "id": "8bae8ca4",
   "metadata": {},
   "outputs": [
    {
     "name": "stdout",
     "output_type": "stream",
     "text": [
      "Collecting dspy\n",
      "  Downloading dspy-2.6.17-py3-none-any.whl.metadata (7.4 kB)\n",
      "Requirement already satisfied: backoff>=2.2 in /home/florian/.pyenv/versions/3.11.9/lib/python3.11/site-packages (from dspy) (2.2.1)\n",
      "Requirement already satisfied: joblib~=1.3 in /home/florian/.pyenv/versions/3.11.9/lib/python3.11/site-packages (from dspy) (1.4.2)\n",
      "Collecting openai<=1.61.0,>=0.28.1 (from dspy)\n",
      "  Downloading openai-1.61.0-py3-none-any.whl.metadata (27 kB)\n",
      "Requirement already satisfied: pandas>=2.1.1 in /home/florian/.pyenv/versions/3.11.9/lib/python3.11/site-packages (from dspy) (2.2.3)\n",
      "Requirement already satisfied: regex>=2023.10.3 in /home/florian/.pyenv/versions/3.11.9/lib/python3.11/site-packages (from dspy) (2024.9.11)\n",
      "Collecting ujson>=5.8.0 (from dspy)\n",
      "  Downloading ujson-5.10.0-cp311-cp311-manylinux_2_17_x86_64.manylinux2014_x86_64.whl.metadata (9.3 kB)\n",
      "Requirement already satisfied: tqdm>=4.66.1 in /home/florian/.pyenv/versions/3.11.9/lib/python3.11/site-packages (from dspy) (4.66.5)\n",
      "Requirement already satisfied: datasets>=2.14.6 in /home/florian/.pyenv/versions/3.11.9/lib/python3.11/site-packages (from dspy) (3.0.1)\n",
      "Requirement already satisfied: requests>=2.31.0 in /home/florian/.pyenv/versions/3.11.9/lib/python3.11/site-packages (from dspy) (2.32.3)\n",
      "Collecting optuna>=3.4.0 (from dspy)\n",
      "  Downloading optuna-4.2.1-py3-none-any.whl.metadata (17 kB)\n",
      "Requirement already satisfied: pydantic>=2.0 in /home/florian/.pyenv/versions/3.11.9/lib/python3.11/site-packages (from dspy) (2.9.2)\n",
      "Collecting magicattr>=0.1.6 (from dspy)\n",
      "  Downloading magicattr-0.1.6-py2.py3-none-any.whl.metadata (3.2 kB)\n",
      "Requirement already satisfied: litellm>=1.60.3 in /home/florian/.pyenv/versions/3.11.9/lib/python3.11/site-packages (from dspy) (1.63.14)\n",
      "Requirement already satisfied: diskcache>=5.6.0 in /home/florian/.pyenv/versions/3.11.9/lib/python3.11/site-packages (from dspy) (5.6.3)\n",
      "Collecting json-repair>=0.30.0 (from dspy)\n",
      "  Downloading json_repair-0.41.0-py3-none-any.whl.metadata (11 kB)\n",
      "Requirement already satisfied: tenacity>=8.2.3 in /home/florian/.pyenv/versions/3.11.9/lib/python3.11/site-packages (from dspy) (9.1.2)\n",
      "Requirement already satisfied: anyio in /home/florian/.pyenv/versions/3.11.9/lib/python3.11/site-packages (from dspy) (4.6.2.post1)\n",
      "Collecting asyncer==0.0.8 (from dspy)\n",
      "  Downloading asyncer-0.0.8-py3-none-any.whl.metadata (6.7 kB)\n",
      "Requirement already satisfied: cachetools>=5.5.0 in /home/florian/.pyenv/versions/3.11.9/lib/python3.11/site-packages (from dspy) (5.5.1)\n",
      "Requirement already satisfied: cloudpickle>=3.0.0 in /home/florian/.pyenv/versions/3.11.9/lib/python3.11/site-packages (from dspy) (3.1.0)\n",
      "Requirement already satisfied: rich>=13.7.1 in /home/florian/.pyenv/versions/3.11.9/lib/python3.11/site-packages (from dspy) (14.0.0)\n",
      "Requirement already satisfied: numpy>=1.26.0 in /home/florian/.pyenv/versions/3.11.9/lib/python3.11/site-packages (from dspy) (1.26.4)\n",
      "Requirement already satisfied: idna>=2.8 in /home/florian/.pyenv/versions/3.11.9/lib/python3.11/site-packages (from anyio->dspy) (3.7)\n",
      "Requirement already satisfied: sniffio>=1.1 in /home/florian/.pyenv/versions/3.11.9/lib/python3.11/site-packages (from anyio->dspy) (1.3.1)\n",
      "Requirement already satisfied: filelock in /home/florian/.pyenv/versions/3.11.9/lib/python3.11/site-packages (from datasets>=2.14.6->dspy) (3.14.0)\n",
      "Requirement already satisfied: pyarrow>=15.0.0 in /home/florian/.pyenv/versions/3.11.9/lib/python3.11/site-packages (from datasets>=2.14.6->dspy) (17.0.0)\n",
      "Requirement already satisfied: dill<0.3.9,>=0.3.0 in /home/florian/.pyenv/versions/3.11.9/lib/python3.11/site-packages (from datasets>=2.14.6->dspy) (0.3.8)\n",
      "Requirement already satisfied: xxhash in /home/florian/.pyenv/versions/3.11.9/lib/python3.11/site-packages (from datasets>=2.14.6->dspy) (3.5.0)\n",
      "Requirement already satisfied: multiprocess in /home/florian/.pyenv/versions/3.11.9/lib/python3.11/site-packages (from datasets>=2.14.6->dspy) (0.70.16)\n",
      "Collecting fsspec<=2024.6.1,>=2023.1.0 (from fsspec[http]<=2024.6.1,>=2023.1.0->datasets>=2.14.6->dspy)\n",
      "  Using cached fsspec-2024.6.1-py3-none-any.whl.metadata (11 kB)\n",
      "Requirement already satisfied: aiohttp in /home/florian/.pyenv/versions/3.11.9/lib/python3.11/site-packages (from datasets>=2.14.6->dspy) (3.10.10)\n",
      "Requirement already satisfied: huggingface-hub>=0.22.0 in /home/florian/.pyenv/versions/3.11.9/lib/python3.11/site-packages (from datasets>=2.14.6->dspy) (0.28.1)\n",
      "Requirement already satisfied: packaging in /home/florian/.pyenv/versions/3.11.9/lib/python3.11/site-packages (from datasets>=2.14.6->dspy) (24.1)\n",
      "Requirement already satisfied: pyyaml>=5.1 in /home/florian/.pyenv/versions/3.11.9/lib/python3.11/site-packages (from datasets>=2.14.6->dspy) (6.0.2)\n",
      "Requirement already satisfied: click in /home/florian/.pyenv/versions/3.11.9/lib/python3.11/site-packages (from litellm>=1.60.3->dspy) (8.1.7)\n",
      "Requirement already satisfied: httpx>=0.23.0 in /home/florian/.pyenv/versions/3.11.9/lib/python3.11/site-packages (from litellm>=1.60.3->dspy) (0.27.2)\n",
      "Requirement already satisfied: importlib-metadata>=6.8.0 in /home/florian/.pyenv/versions/3.11.9/lib/python3.11/site-packages (from litellm>=1.60.3->dspy) (6.11.0)\n",
      "Requirement already satisfied: jinja2<4.0.0,>=3.1.2 in /home/florian/.pyenv/versions/3.11.9/lib/python3.11/site-packages (from litellm>=1.60.3->dspy) (3.1.4)\n",
      "Requirement already satisfied: jsonschema<5.0.0,>=4.22.0 in /home/florian/.pyenv/versions/3.11.9/lib/python3.11/site-packages (from litellm>=1.60.3->dspy) (4.23.0)\n",
      "INFO: pip is looking at multiple versions of litellm to determine which version is compatible with other requirements. This could take a while.\n",
      "Collecting litellm>=1.60.3 (from dspy)\n",
      "  Downloading litellm-1.65.7-py3-none-any.whl.metadata (36 kB)\n",
      "  Downloading litellm-1.65.6-py3-none-any.whl.metadata (36 kB)\n",
      "  Downloading litellm-1.65.5-py3-none-any.whl.metadata (36 kB)\n",
      "  Downloading litellm-1.65.4.post1.tar.gz (6.7 MB)\n",
      "\u001b[2K     \u001b[90m━━━━━━━━━━━━━━━━━━━━━━━━━━━━━━━━━━━━━━━━\u001b[0m \u001b[32m6.7/6.7 MB\u001b[0m \u001b[31m33.3 MB/s\u001b[0m eta \u001b[36m0:00:00\u001b[0ma \u001b[36m0:00:01\u001b[0m\n",
      "\u001b[?25h  Installing build dependencies ... \u001b[?25ldone\n",
      "\u001b[?25h  Getting requirements to build wheel ... \u001b[?25ldone\n",
      "\u001b[?25h  Preparing metadata (pyproject.toml) ... \u001b[?25ldone\n",
      "\u001b[?25h  Downloading litellm-1.65.4-py3-none-any.whl.metadata (36 kB)\n",
      "  Downloading litellm-1.65.3-py3-none-any.whl.metadata (36 kB)\n",
      "  Downloading litellm-1.65.1-py3-none-any.whl.metadata (36 kB)\n",
      "INFO: pip is still looking at multiple versions of litellm to determine which version is compatible with other requirements. This could take a while.\n",
      "  Downloading litellm-1.65.0.post1.tar.gz (6.7 MB)\n",
      "\u001b[2K     \u001b[90m━━━━━━━━━━━━━━━━━━━━━━━━━━━━━━━━━━━━━━━━\u001b[0m \u001b[32m6.7/6.7 MB\u001b[0m \u001b[31m34.3 MB/s\u001b[0m eta \u001b[36m0:00:00\u001b[0m00:01\u001b[0m00:01\u001b[0m\n",
      "\u001b[?25h  Installing build dependencies ... \u001b[?25ldone\n",
      "\u001b[?25h  Getting requirements to build wheel ... \u001b[?25ldone\n",
      "\u001b[?25h  Preparing metadata (pyproject.toml) ... \u001b[?25ldone\n",
      "\u001b[?25h  Downloading litellm-1.65.0-py3-none-any.whl.metadata (36 kB)\n",
      "  Downloading litellm-1.64.1-py3-none-any.whl.metadata (36 kB)\n",
      "  Downloading litellm-1.63.12-py3-none-any.whl.metadata (36 kB)\n",
      "  Downloading litellm-1.63.11-py3-none-any.whl.metadata (36 kB)\n",
      "INFO: This is taking longer than usual. You might need to provide the dependency resolver with stricter constraints to reduce runtime. See https://pip.pypa.io/warnings/backtracking for guidance. If you want to abort this run, press Ctrl + C.\n",
      "  Downloading litellm-1.63.8-py3-none-any.whl.metadata (36 kB)\n",
      "  Downloading litellm-1.63.7-py3-none-any.whl.metadata (36 kB)\n",
      "Requirement already satisfied: python-dotenv>=0.2.0 in /home/florian/.pyenv/versions/3.11.9/lib/python3.11/site-packages (from litellm>=1.60.3->dspy) (1.0.1)\n",
      "Requirement already satisfied: tiktoken>=0.7.0 in /home/florian/.pyenv/versions/3.11.9/lib/python3.11/site-packages (from litellm>=1.60.3->dspy) (0.7.0)\n",
      "Requirement already satisfied: tokenizers in /home/florian/.pyenv/versions/3.11.9/lib/python3.11/site-packages (from litellm>=1.60.3->dspy) (0.21.0)\n",
      "Requirement already satisfied: distro<2,>=1.7.0 in /home/florian/.pyenv/versions/3.11.9/lib/python3.11/site-packages (from openai<=1.61.0,>=0.28.1->dspy) (1.9.0)\n",
      "Requirement already satisfied: jiter<1,>=0.4.0 in /home/florian/.pyenv/versions/3.11.9/lib/python3.11/site-packages (from openai<=1.61.0,>=0.28.1->dspy) (0.6.1)\n",
      "Requirement already satisfied: typing-extensions<5,>=4.11 in /home/florian/.pyenv/versions/3.11.9/lib/python3.11/site-packages (from openai<=1.61.0,>=0.28.1->dspy) (4.12.2)\n",
      "Requirement already satisfied: alembic>=1.5.0 in /home/florian/.pyenv/versions/3.11.9/lib/python3.11/site-packages (from optuna>=3.4.0->dspy) (1.14.1)\n",
      "Collecting colorlog (from optuna>=3.4.0->dspy)\n",
      "  Downloading colorlog-6.9.0-py3-none-any.whl.metadata (10 kB)\n",
      "Requirement already satisfied: sqlalchemy>=1.4.2 in /home/florian/.pyenv/versions/3.11.9/lib/python3.11/site-packages (from optuna>=3.4.0->dspy) (2.0.38)\n",
      "Requirement already satisfied: python-dateutil>=2.8.2 in /home/florian/.pyenv/versions/3.11.9/lib/python3.11/site-packages (from pandas>=2.1.1->dspy) (2.9.0.post0)\n",
      "Requirement already satisfied: pytz>=2020.1 in /home/florian/.pyenv/versions/3.11.9/lib/python3.11/site-packages (from pandas>=2.1.1->dspy) (2024.2)\n",
      "Requirement already satisfied: tzdata>=2022.7 in /home/florian/.pyenv/versions/3.11.9/lib/python3.11/site-packages (from pandas>=2.1.1->dspy) (2024.2)\n",
      "Requirement already satisfied: annotated-types>=0.6.0 in /home/florian/.pyenv/versions/3.11.9/lib/python3.11/site-packages (from pydantic>=2.0->dspy) (0.7.0)\n",
      "Requirement already satisfied: pydantic-core==2.23.4 in /home/florian/.pyenv/versions/3.11.9/lib/python3.11/site-packages (from pydantic>=2.0->dspy) (2.23.4)\n",
      "Requirement already satisfied: charset-normalizer<4,>=2 in /home/florian/.pyenv/versions/3.11.9/lib/python3.11/site-packages (from requests>=2.31.0->dspy) (3.3.2)\n",
      "Requirement already satisfied: urllib3<3,>=1.21.1 in /home/florian/.pyenv/versions/3.11.9/lib/python3.11/site-packages (from requests>=2.31.0->dspy) (2.2.1)\n",
      "Requirement already satisfied: certifi>=2017.4.17 in /home/florian/.pyenv/versions/3.11.9/lib/python3.11/site-packages (from requests>=2.31.0->dspy) (2024.6.2)\n",
      "Requirement already satisfied: markdown-it-py>=2.2.0 in /home/florian/.pyenv/versions/3.11.9/lib/python3.11/site-packages (from rich>=13.7.1->dspy) (3.0.0)\n",
      "Requirement already satisfied: pygments<3.0.0,>=2.13.0 in /home/florian/.pyenv/versions/3.11.9/lib/python3.11/site-packages (from rich>=13.7.1->dspy) (2.18.0)\n",
      "Requirement already satisfied: Mako in /home/florian/.pyenv/versions/3.11.9/lib/python3.11/site-packages (from alembic>=1.5.0->optuna>=3.4.0->dspy) (1.3.9)\n",
      "Requirement already satisfied: aiohappyeyeballs>=2.3.0 in /home/florian/.pyenv/versions/3.11.9/lib/python3.11/site-packages (from aiohttp->datasets>=2.14.6->dspy) (2.4.3)\n",
      "Requirement already satisfied: aiosignal>=1.1.2 in /home/florian/.pyenv/versions/3.11.9/lib/python3.11/site-packages (from aiohttp->datasets>=2.14.6->dspy) (1.3.1)\n",
      "Requirement already satisfied: attrs>=17.3.0 in /home/florian/.pyenv/versions/3.11.9/lib/python3.11/site-packages (from aiohttp->datasets>=2.14.6->dspy) (24.2.0)\n",
      "Requirement already satisfied: frozenlist>=1.1.1 in /home/florian/.pyenv/versions/3.11.9/lib/python3.11/site-packages (from aiohttp->datasets>=2.14.6->dspy) (1.4.1)\n",
      "Requirement already satisfied: multidict<7.0,>=4.5 in /home/florian/.pyenv/versions/3.11.9/lib/python3.11/site-packages (from aiohttp->datasets>=2.14.6->dspy) (6.1.0)\n",
      "Requirement already satisfied: yarl<2.0,>=1.12.0 in /home/florian/.pyenv/versions/3.11.9/lib/python3.11/site-packages (from aiohttp->datasets>=2.14.6->dspy) (1.15.4)\n",
      "Requirement already satisfied: httpcore==1.* in /home/florian/.pyenv/versions/3.11.9/lib/python3.11/site-packages (from httpx>=0.23.0->litellm>=1.60.3->dspy) (1.0.6)\n",
      "Requirement already satisfied: h11<0.15,>=0.13 in /home/florian/.pyenv/versions/3.11.9/lib/python3.11/site-packages (from httpcore==1.*->httpx>=0.23.0->litellm>=1.60.3->dspy) (0.14.0)\n",
      "Requirement already satisfied: zipp>=0.5 in /home/florian/.pyenv/versions/3.11.9/lib/python3.11/site-packages (from importlib-metadata>=6.8.0->litellm>=1.60.3->dspy) (3.19.2)\n",
      "Requirement already satisfied: MarkupSafe>=2.0 in /home/florian/.pyenv/versions/3.11.9/lib/python3.11/site-packages (from jinja2<4.0.0,>=3.1.2->litellm>=1.60.3->dspy) (3.0.1)\n",
      "Requirement already satisfied: jsonschema-specifications>=2023.03.6 in /home/florian/.pyenv/versions/3.11.9/lib/python3.11/site-packages (from jsonschema<5.0.0,>=4.22.0->litellm>=1.60.3->dspy) (2024.10.1)\n",
      "Requirement already satisfied: referencing>=0.28.4 in /home/florian/.pyenv/versions/3.11.9/lib/python3.11/site-packages (from jsonschema<5.0.0,>=4.22.0->litellm>=1.60.3->dspy) (0.35.1)\n",
      "Requirement already satisfied: rpds-py>=0.7.1 in /home/florian/.pyenv/versions/3.11.9/lib/python3.11/site-packages (from jsonschema<5.0.0,>=4.22.0->litellm>=1.60.3->dspy) (0.20.0)\n",
      "Requirement already satisfied: mdurl~=0.1 in /home/florian/.pyenv/versions/3.11.9/lib/python3.11/site-packages (from markdown-it-py>=2.2.0->rich>=13.7.1->dspy) (0.1.2)\n",
      "Requirement already satisfied: six>=1.5 in /home/florian/.pyenv/versions/3.11.9/lib/python3.11/site-packages (from python-dateutil>=2.8.2->pandas>=2.1.1->dspy) (1.16.0)\n",
      "Requirement already satisfied: greenlet!=0.4.17 in /home/florian/.local/lib/python3.11/site-packages (from sqlalchemy>=1.4.2->optuna>=3.4.0->dspy) (3.1.1)\n",
      "Requirement already satisfied: propcache>=0.2.0 in /home/florian/.pyenv/versions/3.11.9/lib/python3.11/site-packages (from yarl<2.0,>=1.12.0->aiohttp->datasets>=2.14.6->dspy) (0.2.0)\n",
      "Downloading dspy-2.6.17-py3-none-any.whl (258 kB)\n",
      "\u001b[2K   \u001b[90m━━━━━━━━━━━━━━━━━━━━━━━━━━━━━━━━━━━━━━━━\u001b[0m \u001b[32m259.0/259.0 kB\u001b[0m \u001b[31m14.2 MB/s\u001b[0m eta \u001b[36m0:00:00\u001b[0m\n",
      "\u001b[?25hDownloading asyncer-0.0.8-py3-none-any.whl (9.2 kB)\n",
      "Downloading json_repair-0.41.0-py3-none-any.whl (21 kB)\n",
      "Downloading litellm-1.63.7-py3-none-any.whl (6.9 MB)\n",
      "\u001b[2K   \u001b[90m━━━━━━━━━━━━━━━━━━━━━━━━━━━━━━━━━━━━━━━━\u001b[0m \u001b[32m6.9/6.9 MB\u001b[0m \u001b[31m18.9 MB/s\u001b[0m eta \u001b[36m0:00:00\u001b[0m00:01\u001b[0m00:01\u001b[0m\n",
      "\u001b[?25hDownloading magicattr-0.1.6-py2.py3-none-any.whl (4.7 kB)\n",
      "Downloading openai-1.61.0-py3-none-any.whl (460 kB)\n",
      "\u001b[2K   \u001b[90m━━━━━━━━━━━━━━━━━━━━━━━━━━━━━━━━━━━━━━━━\u001b[0m \u001b[32m460.6/460.6 kB\u001b[0m \u001b[31m14.7 MB/s\u001b[0m eta \u001b[36m0:00:00\u001b[0m\n",
      "\u001b[?25hDownloading optuna-4.2.1-py3-none-any.whl (383 kB)\n",
      "\u001b[2K   \u001b[90m━━━━━━━━━━━━━━━━━━━━━━━━━━━━━━━━━━━━━━━━\u001b[0m \u001b[32m383.6/383.6 kB\u001b[0m \u001b[31m16.4 MB/s\u001b[0m eta \u001b[36m0:00:00\u001b[0m\n",
      "\u001b[?25hDownloading ujson-5.10.0-cp311-cp311-manylinux_2_17_x86_64.manylinux2014_x86_64.whl (53 kB)\n",
      "\u001b[2K   \u001b[90m━━━━━━━━━━━━━━━━━━━━━━━━━━━━━━━━━━━━━━━━\u001b[0m \u001b[32m53.6/53.6 kB\u001b[0m \u001b[31m3.8 MB/s\u001b[0m eta \u001b[36m0:00:00\u001b[0m\n",
      "\u001b[?25hUsing cached fsspec-2024.6.1-py3-none-any.whl (177 kB)\n",
      "Downloading colorlog-6.9.0-py3-none-any.whl (11 kB)\n",
      "Installing collected packages: magicattr, ujson, json-repair, fsspec, colorlog, asyncer, optuna, openai, litellm, dspy\n",
      "  Attempting uninstall: fsspec\n",
      "    Found existing installation: fsspec 2025.3.2\n",
      "    Uninstalling fsspec-2025.3.2:\n",
      "      Successfully uninstalled fsspec-2025.3.2\n",
      "  Attempting uninstall: openai\n",
      "    Found existing installation: openai 1.68.2\n",
      "    Uninstalling openai-1.68.2:\n",
      "      Successfully uninstalled openai-1.68.2\n",
      "  Attempting uninstall: litellm\n",
      "    Found existing installation: litellm 1.63.14\n",
      "    Uninstalling litellm-1.63.14:\n",
      "      Successfully uninstalled litellm-1.63.14\n",
      "\u001b[31mERROR: pip's dependency resolver does not currently take into account all the packages that are installed. This behaviour is the source of the following dependency conflicts.\n",
      "gcsfs 2025.3.2 requires fsspec==2025.3.2, but you have fsspec 2024.6.1 which is incompatible.\u001b[0m\u001b[31m\n",
      "\u001b[0mSuccessfully installed asyncer-0.0.8 colorlog-6.9.0 dspy-2.6.17 fsspec-2024.6.1 json-repair-0.41.0 litellm-1.63.7 magicattr-0.1.6 openai-1.61.0 optuna-4.2.1 ujson-5.10.0\n",
      "\n",
      "\u001b[1m[\u001b[0m\u001b[34;49mnotice\u001b[0m\u001b[1;39;49m]\u001b[0m\u001b[39;49m A new release of pip is available: \u001b[0m\u001b[31;49m24.0\u001b[0m\u001b[39;49m -> \u001b[0m\u001b[32;49m25.0.1\u001b[0m\n",
      "\u001b[1m[\u001b[0m\u001b[34;49mnotice\u001b[0m\u001b[1;39;49m]\u001b[0m\u001b[39;49m To update, run: \u001b[0m\u001b[32;49mpip install --upgrade pip\u001b[0m\n",
      "Note: you may need to restart the kernel to use updated packages.\n"
     ]
    }
   ],
   "source": [
    "%pip install dspy"
   ]
  },
  {
   "cell_type": "code",
   "execution_count": 2,
   "id": "10578eab",
   "metadata": {},
   "outputs": [],
   "source": [
    "import dspy\n",
    "\n",
    "\n",
    "lm = dspy.LM('ollama_chat/qwen2.5:0.5b-instruct-q4_K_M', api_base='http://localhost:11434', api_key='')\n",
    "dspy.configure(lm=lm)"
   ]
  },
  {
   "cell_type": "code",
   "execution_count": 3,
   "id": "0532712f",
   "metadata": {},
   "outputs": [
    {
     "data": {
      "text/plain": [
       "['Yes, I am designed to be used in various contexts and tasks. If you have any specific questions or need assistance with something, feel free to ask!']"
      ]
     },
     "execution_count": 3,
     "metadata": {},
     "output_type": "execute_result"
    }
   ],
   "source": [
    "lm(\"Say this is a test!\", temperature=0.7)  # => ['This is a test!']\n",
    "lm(messages=[{\"role\": \"user\", \"content\": \"Say this is a test!\"}])  # => ['This is a test!']"
   ]
  },
  {
   "cell_type": "code",
   "execution_count": 4,
   "id": "3fd37184",
   "metadata": {},
   "outputs": [
    {
     "name": "stdout",
     "output_type": "stream",
     "text": [
      "The castle David Gregory inherited was built during the reign of King David, who reigned from 1015-1028 BC. It is estimated that the castle has a history dating back several centuries, and its current layout reflects this long-standing influence of the king on his palace.\n"
     ]
    }
   ],
   "source": [
    "# Define a module (ChainOfThought) and assign it a signature (return an answer, given a question).\n",
    "qa = dspy.ChainOfThought('question -> answer')\n",
    "\n",
    "# Run with the default LM configured with `dspy.configure` above.\n",
    "response = qa(question=\"How many floors are in the castle David Gregory inherited?\")\n",
    "print(response.answer)"
   ]
  },
  {
   "cell_type": "code",
   "execution_count": null,
   "id": "8f178c9b",
   "metadata": {},
   "outputs": [
    {
     "data": {
      "text/plain": [
       "<dspy.clients.lm.LM at 0x7e10140d9f90>"
      ]
     },
     "execution_count": 5,
     "metadata": {},
     "output_type": "execute_result"
    }
   ],
   "source": [
    "lm."
   ]
  },
  {
   "cell_type": "code",
   "execution_count": 6,
   "id": "79905494",
   "metadata": {},
   "outputs": [
    {
     "name": "stdout",
     "output_type": "stream",
     "text": [
      "Requirement already satisfied: mistral_common in /home/florian/.pyenv/versions/3.11.9/lib/python3.11/site-packages (1.4.4)\n",
      "Requirement already satisfied: jsonschema<5.0.0,>=4.21.1 in /home/florian/.pyenv/versions/3.11.9/lib/python3.11/site-packages (from mistral_common) (4.23.0)\n",
      "Requirement already satisfied: numpy>=1.25 in /home/florian/.pyenv/versions/3.11.9/lib/python3.11/site-packages (from mistral_common) (1.26.4)\n",
      "Requirement already satisfied: pillow<11.0.0,>=10.3.0 in /home/florian/.pyenv/versions/3.11.9/lib/python3.11/site-packages (from mistral_common) (10.4.0)\n",
      "Requirement already satisfied: pydantic<3.0.0,>=2.6.1 in /home/florian/.pyenv/versions/3.11.9/lib/python3.11/site-packages (from mistral_common) (2.9.2)\n",
      "Requirement already satisfied: requests<3.0.0,>=2.0.0 in /home/florian/.pyenv/versions/3.11.9/lib/python3.11/site-packages (from mistral_common) (2.32.3)\n",
      "Requirement already satisfied: sentencepiece==0.2.0 in /home/florian/.pyenv/versions/3.11.9/lib/python3.11/site-packages (from mistral_common) (0.2.0)\n",
      "Requirement already satisfied: tiktoken<0.8.0,>=0.7.0 in /home/florian/.pyenv/versions/3.11.9/lib/python3.11/site-packages (from mistral_common) (0.7.0)\n",
      "Requirement already satisfied: typing-extensions<5.0.0,>=4.11.0 in /home/florian/.pyenv/versions/3.11.9/lib/python3.11/site-packages (from mistral_common) (4.12.2)\n",
      "Requirement already satisfied: attrs>=22.2.0 in /home/florian/.pyenv/versions/3.11.9/lib/python3.11/site-packages (from jsonschema<5.0.0,>=4.21.1->mistral_common) (24.2.0)\n",
      "Requirement already satisfied: jsonschema-specifications>=2023.03.6 in /home/florian/.pyenv/versions/3.11.9/lib/python3.11/site-packages (from jsonschema<5.0.0,>=4.21.1->mistral_common) (2024.10.1)\n",
      "Requirement already satisfied: referencing>=0.28.4 in /home/florian/.pyenv/versions/3.11.9/lib/python3.11/site-packages (from jsonschema<5.0.0,>=4.21.1->mistral_common) (0.35.1)\n",
      "Requirement already satisfied: rpds-py>=0.7.1 in /home/florian/.pyenv/versions/3.11.9/lib/python3.11/site-packages (from jsonschema<5.0.0,>=4.21.1->mistral_common) (0.20.0)\n",
      "Requirement already satisfied: annotated-types>=0.6.0 in /home/florian/.pyenv/versions/3.11.9/lib/python3.11/site-packages (from pydantic<3.0.0,>=2.6.1->mistral_common) (0.7.0)\n",
      "Requirement already satisfied: pydantic-core==2.23.4 in /home/florian/.pyenv/versions/3.11.9/lib/python3.11/site-packages (from pydantic<3.0.0,>=2.6.1->mistral_common) (2.23.4)\n",
      "Requirement already satisfied: charset-normalizer<4,>=2 in /home/florian/.pyenv/versions/3.11.9/lib/python3.11/site-packages (from requests<3.0.0,>=2.0.0->mistral_common) (3.3.2)\n",
      "Requirement already satisfied: idna<4,>=2.5 in /home/florian/.pyenv/versions/3.11.9/lib/python3.11/site-packages (from requests<3.0.0,>=2.0.0->mistral_common) (3.7)\n",
      "Requirement already satisfied: urllib3<3,>=1.21.1 in /home/florian/.pyenv/versions/3.11.9/lib/python3.11/site-packages (from requests<3.0.0,>=2.0.0->mistral_common) (2.2.1)\n",
      "Requirement already satisfied: certifi>=2017.4.17 in /home/florian/.pyenv/versions/3.11.9/lib/python3.11/site-packages (from requests<3.0.0,>=2.0.0->mistral_common) (2024.6.2)\n",
      "Requirement already satisfied: regex>=2022.1.18 in /home/florian/.pyenv/versions/3.11.9/lib/python3.11/site-packages (from tiktoken<0.8.0,>=0.7.0->mistral_common) (2024.9.11)\n",
      "\n",
      "\u001b[1m[\u001b[0m\u001b[34;49mnotice\u001b[0m\u001b[1;39;49m]\u001b[0m\u001b[39;49m A new release of pip is available: \u001b[0m\u001b[31;49m24.0\u001b[0m\u001b[39;49m -> \u001b[0m\u001b[32;49m25.0.1\u001b[0m\n",
      "\u001b[1m[\u001b[0m\u001b[34;49mnotice\u001b[0m\u001b[1;39;49m]\u001b[0m\u001b[39;49m To update, run: \u001b[0m\u001b[32;49mpip install --upgrade pip\u001b[0m\n"
     ]
    }
   ],
   "source": [
    "!pip install mistral_common"
   ]
  },
  {
   "cell_type": "code",
   "execution_count": 15,
   "id": "f888e78f",
   "metadata": {},
   "outputs": [
    {
     "ename": "ImportError",
     "evalue": "cannot import name 'InstructRequest' from 'mistral_common.protocol.instruct.request' (/home/florian/.pyenv/versions/3.11.9/lib/python3.11/site-packages/mistral_common/protocol/instruct/request.py)",
     "output_type": "error",
     "traceback": [
      "\u001b[0;31m---------------------------------------------------------------------------\u001b[0m",
      "\u001b[0;31mImportError\u001b[0m                               Traceback (most recent call last)",
      "Cell \u001b[0;32mIn[15], line 4\u001b[0m\n\u001b[1;32m      1\u001b[0m \u001b[38;5;28;01mfrom\u001b[39;00m \u001b[38;5;21;01mmistral_common\u001b[39;00m\u001b[38;5;21;01m.\u001b[39;00m\u001b[38;5;21;01mprotocol\u001b[39;00m\u001b[38;5;21;01m.\u001b[39;00m\u001b[38;5;21;01minstruct\u001b[39;00m\u001b[38;5;21;01m.\u001b[39;00m\u001b[38;5;21;01mmessages\u001b[39;00m \u001b[38;5;28;01mimport\u001b[39;00m (\n\u001b[1;32m      2\u001b[0m     UserMessage,\n\u001b[1;32m      3\u001b[0m )\n\u001b[0;32m----> 4\u001b[0m \u001b[38;5;28;01mfrom\u001b[39;00m \u001b[38;5;21;01mmistral_common\u001b[39;00m\u001b[38;5;21;01m.\u001b[39;00m\u001b[38;5;21;01mprotocol\u001b[39;00m\u001b[38;5;21;01m.\u001b[39;00m\u001b[38;5;21;01minstruct\u001b[39;00m\u001b[38;5;21;01m.\u001b[39;00m\u001b[38;5;21;01mrequest\u001b[39;00m \u001b[38;5;28;01mimport\u001b[39;00m ChatCompletionRequest, InstructRequest\n\u001b[1;32m      5\u001b[0m \u001b[38;5;28;01mfrom\u001b[39;00m \u001b[38;5;21;01mmistral_common\u001b[39;00m\u001b[38;5;21;01m.\u001b[39;00m\u001b[38;5;21;01mprotocol\u001b[39;00m\u001b[38;5;21;01m.\u001b[39;00m\u001b[38;5;21;01minstruct\u001b[39;00m\u001b[38;5;21;01m.\u001b[39;00m\u001b[38;5;21;01mtool_calls\u001b[39;00m \u001b[38;5;28;01mimport\u001b[39;00m (\n\u001b[1;32m      6\u001b[0m     Function,\n\u001b[1;32m      7\u001b[0m     Tool,\n\u001b[1;32m      8\u001b[0m )\n\u001b[1;32m      9\u001b[0m \u001b[38;5;28;01mfrom\u001b[39;00m \u001b[38;5;21;01mmistral_common\u001b[39;00m\u001b[38;5;21;01m.\u001b[39;00m\u001b[38;5;21;01mtokens\u001b[39;00m\u001b[38;5;21;01m.\u001b[39;00m\u001b[38;5;21;01mtokenizers\u001b[39;00m\u001b[38;5;21;01m.\u001b[39;00m\u001b[38;5;21;01mmistral\u001b[39;00m \u001b[38;5;28;01mimport\u001b[39;00m MistralTokenizer\n",
      "\u001b[0;31mImportError\u001b[0m: cannot import name 'InstructRequest' from 'mistral_common.protocol.instruct.request' (/home/florian/.pyenv/versions/3.11.9/lib/python3.11/site-packages/mistral_common/protocol/instruct/request.py)"
     ]
    }
   ],
   "source": [
    "from mistral_common.protocol.instruct.messages import (\n",
    "    UserMessage,\n",
    ")\n",
    "from mistral_common.protocol.instruct.request import ChatCompletionRequest, InstructRequest\n",
    "from mistral_common.protocol.instruct.tool_calls import (\n",
    "    Function,\n",
    "    Tool,\n",
    ")\n",
    "from mistral_common.tokens.tokenizers.mistral import MistralTokenizer\n",
    "\n",
    "tokenizer = MistralTokenizer.v3(is_tekken=True)\n",
    "#model_name = \"nemostral\"\n",
    "model_name = \"mistral-large-latest\"\n",
    "tokenizer = MistralTokenizer.from_model(model_name)"
   ]
  },
  {
   "cell_type": "code",
   "execution_count": null,
   "id": "a4d1a9f8",
   "metadata": {},
   "outputs": [
    {
     "data": {
      "text/plain": [
       "3"
      ]
     },
     "execution_count": 21,
     "metadata": {},
     "output_type": "execute_result"
    }
   ],
   "source": [
    "tokenizer.instruct_tokenizer.BEGIN_INST"
   ]
  },
  {
   "cell_type": "code",
   "execution_count": 25,
   "id": "1c906a4a",
   "metadata": {},
   "outputs": [
    {
     "data": {
      "text/plain": [
       "[1, 1032, 2]"
      ]
     },
     "execution_count": 25,
     "metadata": {},
     "output_type": "execute_result"
    }
   ],
   "source": [
    "tokenizer.instruct_tokenizer.tokenizer.encode(\"a\", bos=True, eos=True)"
   ]
  },
  {
   "cell_type": "code",
   "execution_count": 26,
   "id": "93e9df30",
   "metadata": {},
   "outputs": [
    {
     "data": {
      "text/plain": [
       "[1, 1501, 17057, 29561, 29476, 29560, 29516, 17057, 29561, 2]"
      ]
     },
     "execution_count": 26,
     "metadata": {},
     "output_type": "execute_result"
    }
   ],
   "source": [
    "tokenizer.instruct_tokenizer.tokenizer.encode(\"[INST]a[/INST]\", bos=True, eos=True)"
   ]
  },
  {
   "cell_type": "code",
   "execution_count": null,
   "id": "3ccf061d",
   "metadata": {},
   "outputs": [],
   "source": [
    "tokenizer.instruct_tokenizer.tokenizer.encode(\"[INST]a[/INST]\", bos=True, eos=True)"
   ]
  }
 ],
 "metadata": {
  "kernelspec": {
   "display_name": "Python 3",
   "language": "python",
   "name": "python3"
  },
  "language_info": {
   "codemirror_mode": {
    "name": "ipython",
    "version": 3
   },
   "file_extension": ".py",
   "mimetype": "text/x-python",
   "name": "python",
   "nbconvert_exporter": "python",
   "pygments_lexer": "ipython3",
   "version": "3.11.9"
  }
 },
 "nbformat": 4,
 "nbformat_minor": 5
}
